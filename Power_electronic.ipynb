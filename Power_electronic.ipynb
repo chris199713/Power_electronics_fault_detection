{
 "cells": [
  {
   "cell_type": "markdown",
   "metadata": {},
   "source": [
    "# Set path and dependencies"
   ]
  },
  {
   "cell_type": "code",
   "execution_count": null,
   "metadata": {},
   "outputs": [],
   "source": [
    "import os"
   ]
  },
  {
   "cell_type": "code",
   "execution_count": 2,
   "metadata": {},
   "outputs": [],
   "source": [
    "# project specific paths\n",
    "Tensorflow_path = 'Tensorflow'\n",
    "project_work_space = 'Tensorflow/power_electronic_workspace'\n",
    "\n",
    "image_path = project_work_space + '/image'\n",
    "annotation_path = project_work_space + '/annotations'\n",
    "project_models_path = project_work_space + '/my_models'\n",
    "pre_trained_model_path = project_work_space + '/pre_trained_models'\n",
    "scripts_path = Tensorflow_path + '/scripts'\n",
    "apimodel_path = Tensorflow_path + '/models'\n",
    "\n",
    "my_model_path = project_work_space + '/my_models'\n",
    "config_path = my_model_path +'/power_electronic_mobnet/pipeline.config'\n",
    "checkpoint_path = my_model_path+'/power_electronic_mobnet/'\n"
   ]
  },
  {
   "cell_type": "markdown",
   "metadata": {},
   "source": [
    "# Dataset organization\n",
    "split data into training set and validation set"
   ]
  },
  {
   "cell_type": "code",
   "execution_count": 4,
   "metadata": {},
   "outputs": [],
   "source": [
    "train_val_split = 0.9\n",
    "label_lst = ['connect','faulty']"
   ]
  },
  {
   "cell_type": "code",
   "execution_count": 6,
   "metadata": {},
   "outputs": [
    {
     "name": "stdout",
     "output_type": "stream",
     "text": [
      "train 0 connect0.jpg\n",
      "train 1 connect0.xml\n",
      "train 2 connect1.jpg\n",
      "train 3 connect1.xml\n",
      "train 4 connect10.jpg\n",
      "train 5 connect10.xml\n",
      "train 6 connect11.jpg\n",
      "train 7 connect11.xml\n",
      "train 8 connect12.jpg\n",
      "train 9 connect12.xml\n",
      "train 10 connect13.jpg\n",
      "train 11 connect13.xml\n",
      "train 12 connect14.jpg\n",
      "train 13 connect14.xml\n",
      "train 14 connect15.jpg\n",
      "train 15 connect15.xml\n",
      "train 16 connect16.jpg\n",
      "train 17 connect16.xml\n",
      "train 18 connect17.jpg\n",
      "train 19 connect17.xml\n",
      "train 20 connect18.jpg\n",
      "train 21 connect18.xml\n",
      "train 22 connect19.jpg\n",
      "train 23 connect19.xml\n",
      "train 24 connect2.jpg\n",
      "train 25 connect2.xml\n",
      "train 26 connect20.jpg\n",
      "train 27 connect20.xml\n",
      "train 28 connect21.jpg\n",
      "train 29 connect21.xml\n",
      "train 30 connect22.jpg\n",
      "train 31 connect22.xml\n",
      "train 32 connect23.jpg\n",
      "train 33 connect23.xml\n",
      "train 34 connect24.jpg\n",
      "train 35 connect24.xml\n",
      "train 36 connect25.jpg\n",
      "train 37 connect25.xml\n",
      "train 38 connect26.jpg\n",
      "train 39 connect26.xml\n",
      "train 40 connect27.jpg\n",
      "train 41 connect27.xml\n",
      "train 42 connect28.jpg\n",
      "train 43 connect28.xml\n",
      "train 44 connect29.jpg\n",
      "train 45 connect29.xml\n",
      "train 46 connect3.jpg\n",
      "train 47 connect3.xml\n",
      "train 48 connect30.jpg\n",
      "train 49 connect30.xml\n",
      "train 50 connect31.jpg\n",
      "train 51 connect31.xml\n",
      "train 52 connect32.jpg\n",
      "train 53 connect32.xml\n",
      "train 54 connect33.jpg\n",
      "train 55 connect33.xml\n",
      "train 56 connect34.jpg\n",
      "train 57 connect34.xml\n",
      "train 58 connect35.jpg\n",
      "train 59 connect35.xml\n",
      "train 60 connect36.jpg\n",
      "train 61 connect36.xml\n",
      "train 62 connect37.jpg\n",
      "train 63 connect37.xml\n",
      "train 64 connect38.jpg\n",
      "train 65 connect38.xml\n",
      "train 66 connect39.jpg\n",
      "train 67 connect39.xml\n",
      "train 68 connect4.jpg\n",
      "train 69 connect4.xml\n",
      "train 70 connect40.jpg\n",
      "train 71 connect40.xml\n",
      "train 72 connect41.jpg\n",
      "train 73 connect41.xml\n",
      "train 74 connect42.jpg\n",
      "train 75 connect42.xml\n",
      "train 76 connect43.jpg\n",
      "train 77 connect43.xml\n",
      "train 78 connect44.jpg\n",
      "train 79 connect44.xml\n",
      "train 80 connect45.jpg\n",
      "train 81 connect45.xml\n",
      "train 82 connect46.jpg\n",
      "train 83 connect46.xml\n",
      "train 84 connect47.jpg\n",
      "train 85 connect47.xml\n",
      "train 86 connect5.jpg\n",
      "test 87 connect5.xml\n",
      "test 88 connect6.jpg\n",
      "test 89 connect6.xml\n",
      "test 90 connect7.jpg\n",
      "test 91 connect7.xml\n",
      "test 92 connect8.jpg\n",
      "test 93 connect8.xml\n",
      "test 94 connect9.jpg\n",
      "test 95 connect9.xml\n",
      "train 0 faulty0.jpg\n",
      "train 1 faulty0.xml\n",
      "train 2 faulty1.jpg\n",
      "train 3 faulty1.xml\n",
      "train 4 faulty10.jpg\n",
      "train 5 faulty10.xml\n",
      "train 6 faulty11.jpg\n",
      "train 7 faulty11.xml\n",
      "train 8 faulty12.jpg\n",
      "train 9 faulty12.xml\n",
      "train 10 faulty13.jpg\n",
      "train 11 faulty13.xml\n",
      "train 12 faulty14.jpg\n",
      "train 13 faulty14.xml\n",
      "train 14 faulty15.jpg\n",
      "train 15 faulty15.xml\n",
      "train 16 faulty16.jpg\n",
      "train 17 faulty16.xml\n",
      "train 18 faulty17.jpg\n",
      "train 19 faulty17.xml\n",
      "train 20 faulty18.jpg\n",
      "train 21 faulty18.xml\n",
      "train 22 faulty19.jpg\n",
      "train 23 faulty19.xml\n",
      "train 24 faulty2.jpg\n",
      "train 25 faulty2.xml\n",
      "train 26 faulty20.jpg\n",
      "train 27 faulty20.xml\n",
      "train 28 faulty21.jpg\n",
      "train 29 faulty21.xml\n",
      "train 30 faulty22.jpg\n",
      "train 31 faulty22.xml\n",
      "train 32 faulty23.jpg\n",
      "train 33 faulty23.xml\n",
      "train 34 faulty24.jpg\n",
      "train 35 faulty24.xml\n",
      "train 36 faulty25.jpg\n",
      "train 37 faulty25.xml\n",
      "train 38 faulty26.jpg\n",
      "train 39 faulty26.xml\n",
      "train 40 faulty27.jpg\n",
      "train 41 faulty27.xml\n",
      "train 42 faulty28.jpg\n",
      "train 43 faulty28.xml\n",
      "train 44 faulty29.jpg\n",
      "train 45 faulty29.xml\n",
      "train 46 faulty3.jpg\n",
      "train 47 faulty3.xml\n",
      "train 48 faulty30.jpg\n",
      "train 49 faulty30.xml\n",
      "train 50 faulty31.jpg\n",
      "train 51 faulty31.xml\n",
      "train 52 faulty32.jpg\n",
      "train 53 faulty32.xml\n",
      "train 54 faulty33.jpg\n",
      "train 55 faulty33.xml\n",
      "train 56 faulty34.jpg\n",
      "train 57 faulty34.xml\n",
      "train 58 faulty35.jpg\n",
      "train 59 faulty35.xml\n",
      "train 60 faulty36.jpg\n",
      "train 61 faulty36.xml\n",
      "train 62 faulty37.jpg\n",
      "train 63 faulty37.xml\n",
      "train 64 faulty38.jpg\n",
      "train 65 faulty38.xml\n",
      "train 66 faulty39.jpg\n",
      "train 67 faulty39.xml\n",
      "train 68 faulty4.jpg\n",
      "train 69 faulty4.xml\n",
      "train 70 faulty40.jpg\n",
      "train 71 faulty40.xml\n",
      "train 72 faulty41.jpg\n",
      "train 73 faulty41.xml\n",
      "train 74 faulty42.jpg\n",
      "train 75 faulty42.xml\n",
      "train 76 faulty43.jpg\n",
      "train 77 faulty43.xml\n",
      "train 78 faulty44.jpg\n",
      "train 79 faulty44.xml\n",
      "train 80 faulty45.jpg\n",
      "train 81 faulty45.xml\n",
      "train 82 faulty46.jpg\n",
      "train 83 faulty46.xml\n",
      "train 84 faulty47.jpg\n",
      "train 85 faulty47.xml\n",
      "train 86 faulty5.jpg\n",
      "test 87 faulty5.xml\n",
      "test 88 faulty6.jpg\n",
      "test 89 faulty6.xml\n",
      "test 90 faulty7.jpg\n",
      "test 91 faulty7.xml\n",
      "test 92 faulty8.jpg\n",
      "test 93 faulty8.xml\n",
      "test 94 faulty9.jpg\n",
      "test 95 faulty9.xml\n"
     ]
    }
   ],
   "source": [
    "for label in label_lst:\n",
    "    count = 0\n",
    "    split = len(os.listdir(os.path.join(image_path,label)))*train_val_split\n",
    "\n",
    "    for file in os.listdir(os.path.join(image_path,label)):\n",
    "        # print(file)\n",
    "        if count < split:\n",
    "            print('train',count,file)\n",
    "            os.replace(os.path.join(image_path,label,file),os.path.join(image_path,'train',file))\n",
    "            count += 1\n",
    "        elif count > split: \n",
    "            # print(label)\n",
    "            print('test',count,file)\n",
    "            os.replace(os.path.join(image_path,label,file),os.path.join(image_path,'test',file))\n",
    "            count+=1\n",
    "        # break"
   ]
  },
  {
   "cell_type": "markdown",
   "metadata": {},
   "source": [
    "# Creating label map"
   ]
  },
  {
   "cell_type": "code",
   "execution_count": 7,
   "metadata": {},
   "outputs": [],
   "source": [
    "labels_map = [{'name':'connect','id':1},{'name':'faulty','id':2}]"
   ]
  },
  {
   "cell_type": "code",
   "execution_count": 8,
   "metadata": {},
   "outputs": [],
   "source": [
    "with open(annotation_path + '/label_map.pbtxt','w') as file:\n",
    "    for label in labels_map:\n",
    "        file.write('item { \\n')\n",
    "        file.write('\\tname:\\'{}\\'\\n'.format(label['name']))\n",
    "        file.write('\\tid:{}\\n'.format(label['id']))\n",
    "        file.write('}\\n')\n"
   ]
  },
  {
   "cell_type": "markdown",
   "metadata": {},
   "source": [
    "# TF RECORDS\n",
    "Converting *.xml to *.records\n",
    "script and code provided: https://tensorflow-object-detection-api-tutorial.readthedocs.io/en/latest/training.html#create-tensorflow-records"
   ]
  },
  {
   "cell_type": "code",
   "execution_count": 11,
   "metadata": {},
   "outputs": [
    {
     "name": "stdout",
     "output_type": "stream",
     "text": [
      "Successfully created the TFRecord file: Tensorflow/power_electronic_workspace/annotations/test.record\n"
     ]
    }
   ],
   "source": [
    "# # Create train data:\n",
    "!python {scripts_path + '/preprocessing/generate_tfrecord.py'} -x {image_path + '/train'} -l {annotation_path + '/label_map.pbtxt'} -o {annotation_path + '/train.record'}\n",
    "\n",
    "\n",
    "# # Create test data:\n",
    "!python {scripts_path + '/preprocessing/generate_tfrecord.py'} -x {image_path + '/test'} -l {annotation_path + '/label_map.pbtxt'} -o {annotation_path + '/test.record'}"
   ]
  },
  {
   "cell_type": "markdown",
   "metadata": {},
   "source": [
    "# Download the pretrained model zip from TF zoo"
   ]
  },
  {
   "cell_type": "code",
   "execution_count": null,
   "metadata": {},
   "outputs": [],
   "source": [
    "# model_link = 'http://download.tensorflow.org/models/object_detection/tf2/20200711/ssd_mobilenet_v2_fpnlite_320x320_coco17_tpu-8.tar.gz'\n",
    "# !wget.download(model_link)"
   ]
  },
  {
   "cell_type": "markdown",
   "metadata": {},
   "source": [
    "# Transfer learning"
   ]
  },
  {
   "cell_type": "code",
   "execution_count": 14,
   "metadata": {},
   "outputs": [],
   "source": [
    "CUSTOM_MODEL_NAME = 'power_electronic_mobnet' "
   ]
  },
  {
   "cell_type": "code",
   "execution_count": 3,
   "metadata": {},
   "outputs": [],
   "source": [
    "import tensorflow as tf\n",
    "from object_detection.utils import config_util\n",
    "from object_detection.protos import pipeline_pb2\n",
    "from google.protobuf import text_format"
   ]
  },
  {
   "cell_type": "code",
   "execution_count": 19,
   "metadata": {},
   "outputs": [
    {
     "data": {
      "text/plain": [
       "{'model': ssd {\n",
       "   num_classes: 90\n",
       "   image_resizer {\n",
       "     fixed_shape_resizer {\n",
       "       height: 320\n",
       "       width: 320\n",
       "     }\n",
       "   }\n",
       "   feature_extractor {\n",
       "     type: \"ssd_mobilenet_v2_fpn_keras\"\n",
       "     depth_multiplier: 1.0\n",
       "     min_depth: 16\n",
       "     conv_hyperparams {\n",
       "       regularizer {\n",
       "         l2_regularizer {\n",
       "           weight: 3.9999998989515007e-05\n",
       "         }\n",
       "       }\n",
       "       initializer {\n",
       "         random_normal_initializer {\n",
       "           mean: 0.0\n",
       "           stddev: 0.009999999776482582\n",
       "         }\n",
       "       }\n",
       "       activation: RELU_6\n",
       "       batch_norm {\n",
       "         decay: 0.996999979019165\n",
       "         scale: true\n",
       "         epsilon: 0.0010000000474974513\n",
       "       }\n",
       "     }\n",
       "     use_depthwise: true\n",
       "     override_base_feature_extractor_hyperparams: true\n",
       "     fpn {\n",
       "       min_level: 3\n",
       "       max_level: 7\n",
       "       additional_layer_depth: 128\n",
       "     }\n",
       "   }\n",
       "   box_coder {\n",
       "     faster_rcnn_box_coder {\n",
       "       y_scale: 10.0\n",
       "       x_scale: 10.0\n",
       "       height_scale: 5.0\n",
       "       width_scale: 5.0\n",
       "     }\n",
       "   }\n",
       "   matcher {\n",
       "     argmax_matcher {\n",
       "       matched_threshold: 0.5\n",
       "       unmatched_threshold: 0.5\n",
       "       ignore_thresholds: false\n",
       "       negatives_lower_than_unmatched: true\n",
       "       force_match_for_each_row: true\n",
       "       use_matmul_gather: true\n",
       "     }\n",
       "   }\n",
       "   similarity_calculator {\n",
       "     iou_similarity {\n",
       "     }\n",
       "   }\n",
       "   box_predictor {\n",
       "     weight_shared_convolutional_box_predictor {\n",
       "       conv_hyperparams {\n",
       "         regularizer {\n",
       "           l2_regularizer {\n",
       "             weight: 3.9999998989515007e-05\n",
       "           }\n",
       "         }\n",
       "         initializer {\n",
       "           random_normal_initializer {\n",
       "             mean: 0.0\n",
       "             stddev: 0.009999999776482582\n",
       "           }\n",
       "         }\n",
       "         activation: RELU_6\n",
       "         batch_norm {\n",
       "           decay: 0.996999979019165\n",
       "           scale: true\n",
       "           epsilon: 0.0010000000474974513\n",
       "         }\n",
       "       }\n",
       "       depth: 128\n",
       "       num_layers_before_predictor: 4\n",
       "       kernel_size: 3\n",
       "       class_prediction_bias_init: -4.599999904632568\n",
       "       share_prediction_tower: true\n",
       "       use_depthwise: true\n",
       "     }\n",
       "   }\n",
       "   anchor_generator {\n",
       "     multiscale_anchor_generator {\n",
       "       min_level: 3\n",
       "       max_level: 7\n",
       "       anchor_scale: 4.0\n",
       "       aspect_ratios: 1.0\n",
       "       aspect_ratios: 2.0\n",
       "       aspect_ratios: 0.5\n",
       "       scales_per_octave: 2\n",
       "     }\n",
       "   }\n",
       "   post_processing {\n",
       "     batch_non_max_suppression {\n",
       "       score_threshold: 9.99999993922529e-09\n",
       "       iou_threshold: 0.6000000238418579\n",
       "       max_detections_per_class: 100\n",
       "       max_total_detections: 100\n",
       "       use_static_shapes: false\n",
       "     }\n",
       "     score_converter: SIGMOID\n",
       "   }\n",
       "   normalize_loss_by_num_matches: true\n",
       "   loss {\n",
       "     localization_loss {\n",
       "       weighted_smooth_l1 {\n",
       "       }\n",
       "     }\n",
       "     classification_loss {\n",
       "       weighted_sigmoid_focal {\n",
       "         gamma: 2.0\n",
       "         alpha: 0.25\n",
       "       }\n",
       "     }\n",
       "     classification_weight: 1.0\n",
       "     localization_weight: 1.0\n",
       "   }\n",
       "   encode_background_as_zeros: true\n",
       "   normalize_loc_loss_by_codesize: true\n",
       "   inplace_batchnorm_update: true\n",
       "   freeze_batchnorm: false\n",
       " },\n",
       " 'train_config': batch_size: 128\n",
       " data_augmentation_options {\n",
       "   random_horizontal_flip {\n",
       "   }\n",
       " }\n",
       " data_augmentation_options {\n",
       "   random_crop_image {\n",
       "     min_object_covered: 0.0\n",
       "     min_aspect_ratio: 0.75\n",
       "     max_aspect_ratio: 3.0\n",
       "     min_area: 0.75\n",
       "     max_area: 1.0\n",
       "     overlap_thresh: 0.0\n",
       "   }\n",
       " }\n",
       " sync_replicas: true\n",
       " optimizer {\n",
       "   momentum_optimizer {\n",
       "     learning_rate {\n",
       "       cosine_decay_learning_rate {\n",
       "         learning_rate_base: 0.07999999821186066\n",
       "         total_steps: 50000\n",
       "         warmup_learning_rate: 0.026666000485420227\n",
       "         warmup_steps: 1000\n",
       "       }\n",
       "     }\n",
       "     momentum_optimizer_value: 0.8999999761581421\n",
       "   }\n",
       "   use_moving_average: false\n",
       " }\n",
       " fine_tune_checkpoint: \"PATH_TO_BE_CONFIGURED\"\n",
       " num_steps: 50000\n",
       " startup_delay_steps: 0.0\n",
       " replicas_to_aggregate: 8\n",
       " max_number_of_boxes: 100\n",
       " unpad_groundtruth_tensors: false\n",
       " fine_tune_checkpoint_type: \"classification\"\n",
       " fine_tune_checkpoint_version: V2,\n",
       " 'train_input_config': label_map_path: \"PATH_TO_BE_CONFIGURED\"\n",
       " tf_record_input_reader {\n",
       "   input_path: \"PATH_TO_BE_CONFIGURED\"\n",
       " },\n",
       " 'eval_config': metrics_set: \"coco_detection_metrics\"\n",
       " use_moving_averages: false,\n",
       " 'eval_input_configs': [label_map_path: \"PATH_TO_BE_CONFIGURED\"\n",
       " shuffle: false\n",
       " num_epochs: 1\n",
       " tf_record_input_reader {\n",
       "   input_path: \"PATH_TO_BE_CONFIGURED\"\n",
       " }\n",
       " ],\n",
       " 'eval_input_config': label_map_path: \"PATH_TO_BE_CONFIGURED\"\n",
       " shuffle: false\n",
       " num_epochs: 1\n",
       " tf_record_input_reader {\n",
       "   input_path: \"PATH_TO_BE_CONFIGURED\"\n",
       " }}"
      ]
     },
     "execution_count": 19,
     "metadata": {},
     "output_type": "execute_result"
    }
   ],
   "source": [
    "config_path = my_model_path+'/'+CUSTOM_MODEL_NAME+'/pipeline.config'\n",
    "config = config_util.get_configs_from_pipeline_file(config_path)\n",
    "config"
   ]
  },
  {
   "cell_type": "code",
   "execution_count": 20,
   "metadata": {},
   "outputs": [],
   "source": [
    "pipeline_config = pipeline_pb2.TrainEvalPipelineConfig()\n",
    "with tf.io.gfile.GFile(config_path, \"r\") as f:                                                                                                                                                                                                                     \n",
    "    proto_str = f.read()                                                                                                                                                                                                                                          \n",
    "    text_format.Merge(proto_str, pipeline_config)  "
   ]
  },
  {
   "cell_type": "code",
   "execution_count": 22,
   "metadata": {},
   "outputs": [],
   "source": [
    "pipeline_config.model.ssd.num_classes = 2\n",
    "pipeline_config.train_config.batch_size = 8\n",
    "pipeline_config.train_config.fine_tune_checkpoint = pre_trained_model_path+'/ssd_mobilenet_v2_fpnlite_320x320_coco17_tpu-8/checkpoint/ckpt-0'\n",
    "pipeline_config.train_config.fine_tune_checkpoint_type = \"detection\"\n",
    "pipeline_config.train_input_reader.label_map_path= annotation_path + '/label_map.pbtxt'\n",
    "pipeline_config.train_input_reader.tf_record_input_reader.input_path[:] = [annotation_path + '/train.record']\n",
    "pipeline_config.eval_input_reader[0].label_map_path = annotation_path + '/label_map.pbtxt'\n",
    "pipeline_config.eval_input_reader[0].tf_record_input_reader.input_path[:] = [annotation_path + '/test.record']"
   ]
  },
  {
   "cell_type": "code",
   "execution_count": 23,
   "metadata": {},
   "outputs": [],
   "source": [
    "config_text = text_format.MessageToString(pipeline_config)                                                                                                                                                                                                        \n",
    "with tf.io.gfile.GFile(CONFIG_PATH, \"wb\") as f:                                                                                                                                                                                                                     \n",
    "    f.write(config_text)   "
   ]
  },
  {
   "cell_type": "code",
   "execution_count": 38,
   "metadata": {},
   "outputs": [
    {
     "name": "stdout",
     "output_type": "stream",
     "text": [
      "python Tensorflow/models/research/object_detection/model_main_tf2.py --model_dir=Tensorflow/power_electronic_workspace/my_models/power_electronic_mobnet --pipeline_config_path=Tensorflow/power_electronic_workspace/my_models/power_electronic_mobnet/pipeline.config --num_train_steps=5000\n"
     ]
    }
   ],
   "source": [
    "print(\"\"\"python {}/research/object_detection/model_main_tf2.py --model_dir={}/{} --pipeline_config_path={}/{}/pipeline.config --num_train_steps=5000\"\"\".format(apimodel_path, project_models_path,CUSTOM_MODEL_NAME,project_models_path,CUSTOM_MODEL_NAME))"
   ]
  },
  {
   "cell_type": "markdown",
   "metadata": {},
   "source": [
    "# Build the model using the chechpoints created"
   ]
  },
  {
   "cell_type": "code",
   "execution_count": 4,
   "metadata": {},
   "outputs": [],
   "source": [
    "import os\n",
    "from object_detection.utils import label_map_util\n",
    "from object_detection.utils import visualization_utils as viz_utils\n",
    "from object_detection.builders import model_builder"
   ]
  },
  {
   "cell_type": "code",
   "execution_count": 5,
   "metadata": {},
   "outputs": [],
   "source": [
    "config = config_util.get_configs_from_pipeline_file(config_path)\n",
    "detection_model = model_builder.build(model_config = config['model'], is_training=False)\n",
    "\n",
    "# Restore checkpoint\n",
    "ckpt = tf.compat.v2.train.Checkpoint(model=detection_model)\n",
    "ckpt.restore(os.path.join(checkpoint_path, 'ckpt-6')).expect_partial()\n",
    "\n",
    "@tf.function\n",
    "def detect_fn(image):\n",
    "    image, shapes = detection_model.preprocess(image)\n",
    "    prediction_dict = detection_model.predict(image, shapes)\n",
    "    detections = detection_model.postprocess(prediction_dict, shapes)\n",
    "    return detections"
   ]
  },
  {
   "cell_type": "markdown",
   "metadata": {},
   "source": [
    "# Use OpenCV to detect faulty power electronics in real time"
   ]
  },
  {
   "cell_type": "code",
   "execution_count": 6,
   "metadata": {},
   "outputs": [],
   "source": [
    "import cv2 \n",
    "import numpy as np"
   ]
  },
  {
   "cell_type": "code",
   "execution_count": 7,
   "metadata": {},
   "outputs": [],
   "source": [
    "category_index = label_map_util.create_category_index_from_labelmap(annotation_path+'/label_map.pbtxt')"
   ]
  },
  {
   "cell_type": "code",
   "execution_count": 9,
   "metadata": {},
   "outputs": [],
   "source": [
    "cap = cv2.VideoCapture(0)\n",
    "width = int(cap.get(cv2.CAP_PROP_FRAME_WIDTH))\n",
    "height = int(cap.get(cv2.CAP_PROP_FRAME_HEIGHT))"
   ]
  },
  {
   "cell_type": "code",
   "execution_count": 10,
   "metadata": {},
   "outputs": [
    {
     "ename": "ValueError",
     "evalue": "in user code:\n\n    File \"C:\\Users\\User\\AppData\\Local\\Temp\\ipykernel_19036\\1707628044.py\", line 10, in detect_fn  *\n        image, shapes = detection_model.preprocess(image)\n    File \"c:\\Users\\User\\anaconda3\\envs\\tf2\\lib\\site-packages\\object_detection\\meta_architectures\\ssd_meta_arch.py\", line 485, in preprocess  *\n        normalized_inputs, self._image_resizer_fn)\n    File \"c:\\Users\\User\\anaconda3\\envs\\tf2\\lib\\site-packages\\object_detection\\utils\\shape_utils.py\", line 492, in resize_images_and_return_shapes  *\n        outputs = static_or_dynamic_map_fn(\n    File \"c:\\Users\\User\\anaconda3\\envs\\tf2\\lib\\site-packages\\object_detection\\utils\\shape_utils.py\", line 246, in static_or_dynamic_map_fn  *\n        outputs = [fn(arg) for arg in tf.unstack(elems)]\n    File \"c:\\Users\\User\\anaconda3\\envs\\tf2\\lib\\site-packages\\object_detection\\core\\preprocessor.py\", line 3330, in resize_image  *\n        new_image = tf.image.resize_images(\n\n    ValueError: 'images' must have either 3 or 4 dimensions.\n",
     "output_type": "error",
     "traceback": [
      "\u001b[1;31m---------------------------------------------------------------------------\u001b[0m",
      "\u001b[1;31mValueError\u001b[0m                                Traceback (most recent call last)",
      "Input \u001b[1;32mIn [10]\u001b[0m, in \u001b[0;36m<cell line: 2>\u001b[1;34m()\u001b[0m\n\u001b[0;32m      3\u001b[0m image_np \u001b[38;5;241m=\u001b[39m np\u001b[38;5;241m.\u001b[39marray(frame)\n\u001b[0;32m      5\u001b[0m input_tensor \u001b[38;5;241m=\u001b[39m tf\u001b[38;5;241m.\u001b[39mconvert_to_tensor(np\u001b[38;5;241m.\u001b[39mexpand_dims(image_np, \u001b[38;5;241m0\u001b[39m), dtype\u001b[38;5;241m=\u001b[39mtf\u001b[38;5;241m.\u001b[39mfloat32)\n\u001b[1;32m----> 6\u001b[0m detections \u001b[38;5;241m=\u001b[39m \u001b[43mdetect_fn\u001b[49m\u001b[43m(\u001b[49m\u001b[43minput_tensor\u001b[49m\u001b[43m)\u001b[49m\n\u001b[0;32m      8\u001b[0m num_detections \u001b[38;5;241m=\u001b[39m \u001b[38;5;28mint\u001b[39m(detections\u001b[38;5;241m.\u001b[39mpop(\u001b[38;5;124m'\u001b[39m\u001b[38;5;124mnum_detections\u001b[39m\u001b[38;5;124m'\u001b[39m))\n\u001b[0;32m      9\u001b[0m detections \u001b[38;5;241m=\u001b[39m {key: value[\u001b[38;5;241m0\u001b[39m, :num_detections]\u001b[38;5;241m.\u001b[39mnumpy()\n\u001b[0;32m     10\u001b[0m               \u001b[38;5;28;01mfor\u001b[39;00m key, value \u001b[38;5;129;01min\u001b[39;00m detections\u001b[38;5;241m.\u001b[39mitems()}\n",
      "File \u001b[1;32mc:\\Users\\User\\anaconda3\\envs\\tf2\\lib\\site-packages\\tensorflow\\python\\util\\traceback_utils.py:153\u001b[0m, in \u001b[0;36mfilter_traceback.<locals>.error_handler\u001b[1;34m(*args, **kwargs)\u001b[0m\n\u001b[0;32m    151\u001b[0m \u001b[38;5;28;01mexcept\u001b[39;00m \u001b[38;5;167;01mException\u001b[39;00m \u001b[38;5;28;01mas\u001b[39;00m e:\n\u001b[0;32m    152\u001b[0m   filtered_tb \u001b[38;5;241m=\u001b[39m _process_traceback_frames(e\u001b[38;5;241m.\u001b[39m__traceback__)\n\u001b[1;32m--> 153\u001b[0m   \u001b[38;5;28;01mraise\u001b[39;00m e\u001b[38;5;241m.\u001b[39mwith_traceback(filtered_tb) \u001b[38;5;28;01mfrom\u001b[39;00m \u001b[38;5;28mNone\u001b[39m\n\u001b[0;32m    154\u001b[0m \u001b[38;5;28;01mfinally\u001b[39;00m:\n\u001b[0;32m    155\u001b[0m   \u001b[38;5;28;01mdel\u001b[39;00m filtered_tb\n",
      "File \u001b[1;32m~\\AppData\\Local\\Temp\\__autograph_generated_filexnwm8b61.py:10\u001b[0m, in \u001b[0;36mouter_factory.<locals>.inner_factory.<locals>.tf__detect_fn\u001b[1;34m(image)\u001b[0m\n\u001b[0;32m      8\u001b[0m do_return \u001b[38;5;241m=\u001b[39m \u001b[38;5;28;01mFalse\u001b[39;00m\n\u001b[0;32m      9\u001b[0m retval_ \u001b[38;5;241m=\u001b[39m ag__\u001b[38;5;241m.\u001b[39mUndefinedReturnValue()\n\u001b[1;32m---> 10\u001b[0m (image, shapes) \u001b[38;5;241m=\u001b[39m ag__\u001b[38;5;241m.\u001b[39mconverted_call(ag__\u001b[38;5;241m.\u001b[39mld(detection_model)\u001b[38;5;241m.\u001b[39mpreprocess, (ag__\u001b[38;5;241m.\u001b[39mld(image),), \u001b[38;5;28;01mNone\u001b[39;00m, fscope)\n\u001b[0;32m     11\u001b[0m prediction_dict \u001b[38;5;241m=\u001b[39m ag__\u001b[38;5;241m.\u001b[39mconverted_call(ag__\u001b[38;5;241m.\u001b[39mld(detection_model)\u001b[38;5;241m.\u001b[39mpredict, (ag__\u001b[38;5;241m.\u001b[39mld(image), ag__\u001b[38;5;241m.\u001b[39mld(shapes)), \u001b[38;5;28;01mNone\u001b[39;00m, fscope)\n\u001b[0;32m     12\u001b[0m detections \u001b[38;5;241m=\u001b[39m ag__\u001b[38;5;241m.\u001b[39mconverted_call(ag__\u001b[38;5;241m.\u001b[39mld(detection_model)\u001b[38;5;241m.\u001b[39mpostprocess, (ag__\u001b[38;5;241m.\u001b[39mld(prediction_dict), ag__\u001b[38;5;241m.\u001b[39mld(shapes)), \u001b[38;5;28;01mNone\u001b[39;00m, fscope)\n",
      "File \u001b[1;32m~\\AppData\\Local\\Temp\\__autograph_generated_file4xeo2kv7.py:35\u001b[0m, in \u001b[0;36mouter_factory.<locals>.inner_factory.<locals>.tf__preprocess\u001b[1;34m(self, inputs)\u001b[0m\n\u001b[0;32m     33\u001b[0m \u001b[38;5;28;01mtry\u001b[39;00m:\n\u001b[0;32m     34\u001b[0m     do_return \u001b[38;5;241m=\u001b[39m \u001b[38;5;28;01mTrue\u001b[39;00m\n\u001b[1;32m---> 35\u001b[0m     retval_ \u001b[38;5;241m=\u001b[39m ag__\u001b[38;5;241m.\u001b[39mconverted_call(ag__\u001b[38;5;241m.\u001b[39mld(shape_utils)\u001b[38;5;241m.\u001b[39mresize_images_and_return_shapes, (ag__\u001b[38;5;241m.\u001b[39mld(normalized_inputs), ag__\u001b[38;5;241m.\u001b[39mld(\u001b[38;5;28mself\u001b[39m)\u001b[38;5;241m.\u001b[39m_image_resizer_fn), \u001b[38;5;28;01mNone\u001b[39;00m, fscope)\n\u001b[0;32m     36\u001b[0m \u001b[38;5;28;01mexcept\u001b[39;00m:\n\u001b[0;32m     37\u001b[0m     do_return \u001b[38;5;241m=\u001b[39m \u001b[38;5;28;01mFalse\u001b[39;00m\n",
      "File \u001b[1;32m~\\AppData\\Local\\Temp\\__autograph_generated_fileee9gfpi7.py:37\u001b[0m, in \u001b[0;36mouter_factory.<locals>.inner_factory.<locals>.tf__resize_images_and_return_shapes\u001b[1;34m(inputs, image_resizer_fn)\u001b[0m\n\u001b[0;32m     35\u001b[0m     \u001b[38;5;28;01mpass\u001b[39;00m\n\u001b[0;32m     36\u001b[0m ag__\u001b[38;5;241m.\u001b[39mif_stmt(ag__\u001b[38;5;241m.\u001b[39mld(inputs)\u001b[38;5;241m.\u001b[39mdtype \u001b[38;5;129;01mis\u001b[39;00m \u001b[38;5;129;01mnot\u001b[39;00m ag__\u001b[38;5;241m.\u001b[39mld(tf)\u001b[38;5;241m.\u001b[39mfloat32, if_body, else_body, get_state, set_state, (), \u001b[38;5;241m0\u001b[39m)\n\u001b[1;32m---> 37\u001b[0m outputs \u001b[38;5;241m=\u001b[39m ag__\u001b[38;5;241m.\u001b[39mconverted_call(ag__\u001b[38;5;241m.\u001b[39mld(static_or_dynamic_map_fn), (ag__\u001b[38;5;241m.\u001b[39mld(image_resizer_fn),), \u001b[38;5;28mdict\u001b[39m(elems\u001b[38;5;241m=\u001b[39mag__\u001b[38;5;241m.\u001b[39mld(inputs), dtype\u001b[38;5;241m=\u001b[39m[ag__\u001b[38;5;241m.\u001b[39mld(tf)\u001b[38;5;241m.\u001b[39mfloat32, ag__\u001b[38;5;241m.\u001b[39mld(tf)\u001b[38;5;241m.\u001b[39mint32]), fscope)\n\u001b[0;32m     38\u001b[0m resized_inputs \u001b[38;5;241m=\u001b[39m ag__\u001b[38;5;241m.\u001b[39mld(outputs)[\u001b[38;5;241m0\u001b[39m]\n\u001b[0;32m     39\u001b[0m true_image_shapes \u001b[38;5;241m=\u001b[39m ag__\u001b[38;5;241m.\u001b[39mld(outputs)[\u001b[38;5;241m1\u001b[39m]\n",
      "File \u001b[1;32m~\\AppData\\Local\\Temp\\__autograph_generated_filemobezycu.py:186\u001b[0m, in \u001b[0;36mouter_factory.<locals>.inner_factory.<locals>.tf__static_or_dynamic_map_fn\u001b[1;34m(fn, elems, dtype, parallel_iterations, back_prop)\u001b[0m\n\u001b[0;32m    184\u001b[0m elem \u001b[38;5;241m=\u001b[39m ag__\u001b[38;5;241m.\u001b[39mUndefined(\u001b[38;5;124m'\u001b[39m\u001b[38;5;124melem\u001b[39m\u001b[38;5;124m'\u001b[39m)\n\u001b[0;32m    185\u001b[0m outputs \u001b[38;5;241m=\u001b[39m ag__\u001b[38;5;241m.\u001b[39mUndefined(\u001b[38;5;124m'\u001b[39m\u001b[38;5;124moutputs\u001b[39m\u001b[38;5;124m'\u001b[39m)\n\u001b[1;32m--> 186\u001b[0m ag__\u001b[38;5;241m.\u001b[39mif_stmt(ag__\u001b[38;5;241m.\u001b[39mconverted_call(ag__\u001b[38;5;241m.\u001b[39mld(\u001b[38;5;28misinstance\u001b[39m), (ag__\u001b[38;5;241m.\u001b[39mld(elems), ag__\u001b[38;5;241m.\u001b[39mld(\u001b[38;5;28mlist\u001b[39m)), \u001b[38;5;28;01mNone\u001b[39;00m, fscope), if_body_5, else_body_5, get_state_7, set_state_7, (\u001b[38;5;124m'\u001b[39m\u001b[38;5;124mdo_return\u001b[39m\u001b[38;5;124m'\u001b[39m, \u001b[38;5;124m'\u001b[39m\u001b[38;5;124moutputs\u001b[39m\u001b[38;5;124m'\u001b[39m, \u001b[38;5;124m'\u001b[39m\u001b[38;5;124mretval_\u001b[39m\u001b[38;5;124m'\u001b[39m), \u001b[38;5;241m3\u001b[39m)\n\u001b[0;32m    188\u001b[0m \u001b[38;5;28;01mdef\u001b[39;00m \u001b[38;5;21mget_state_12\u001b[39m():\n\u001b[0;32m    189\u001b[0m     \u001b[38;5;28;01mreturn\u001b[39;00m (do_return, retval_)\n",
      "File \u001b[1;32m~\\AppData\\Local\\Temp\\__autograph_generated_filemobezycu.py:179\u001b[0m, in \u001b[0;36mouter_factory.<locals>.inner_factory.<locals>.tf__static_or_dynamic_map_fn.<locals>.else_body_5\u001b[1;34m()\u001b[0m\n\u001b[0;32m    177\u001b[0m     outputs \u001b[38;5;241m=\u001b[39m [ag__\u001b[38;5;241m.\u001b[39mconverted_call(ag__\u001b[38;5;241m.\u001b[39mld(fn), (ag__\u001b[38;5;241m.\u001b[39mld(arg),), \u001b[38;5;28;01mNone\u001b[39;00m, fscope) \u001b[38;5;28;01mfor\u001b[39;00m arg \u001b[38;5;129;01min\u001b[39;00m ag__\u001b[38;5;241m.\u001b[39mconverted_call(ag__\u001b[38;5;241m.\u001b[39mld(tf)\u001b[38;5;241m.\u001b[39munstack, (ag__\u001b[38;5;241m.\u001b[39mld(elems),), \u001b[38;5;28;01mNone\u001b[39;00m, fscope)]\n\u001b[0;32m    178\u001b[0m outputs \u001b[38;5;241m=\u001b[39m ag__\u001b[38;5;241m.\u001b[39mUndefined(\u001b[38;5;124m'\u001b[39m\u001b[38;5;124moutputs\u001b[39m\u001b[38;5;124m'\u001b[39m)\n\u001b[1;32m--> 179\u001b[0m \u001b[43mag__\u001b[49m\u001b[38;5;241;43m.\u001b[39;49m\u001b[43mif_stmt\u001b[49m\u001b[43m(\u001b[49m\u001b[43mag__\u001b[49m\u001b[38;5;241;43m.\u001b[39;49m\u001b[43mor_\u001b[49m\u001b[43m(\u001b[49m\u001b[38;5;28;43;01mlambda\u001b[39;49;00m\u001b[43m \u001b[49m\u001b[43m:\u001b[49m\u001b[43m \u001b[49m\u001b[43mag__\u001b[49m\u001b[38;5;241;43m.\u001b[39;49m\u001b[43mnot_\u001b[49m\u001b[43m(\u001b[49m\u001b[43mag__\u001b[49m\u001b[38;5;241;43m.\u001b[39;49m\u001b[43mld\u001b[49m\u001b[43m(\u001b[49m\u001b[43melems_shape\u001b[49m\u001b[43m)\u001b[49m\u001b[43m)\u001b[49m\u001b[43m,\u001b[49m\u001b[43m \u001b[49m\u001b[38;5;28;43;01mlambda\u001b[39;49;00m\u001b[43m \u001b[49m\u001b[43m:\u001b[49m\u001b[43m \u001b[49m\u001b[43mag__\u001b[49m\u001b[38;5;241;43m.\u001b[39;49m\u001b[43mnot_\u001b[49m\u001b[43m(\u001b[49m\u001b[43mag__\u001b[49m\u001b[38;5;241;43m.\u001b[39;49m\u001b[43mld\u001b[49m\u001b[43m(\u001b[49m\u001b[43melems_shape\u001b[49m\u001b[43m)\u001b[49m\u001b[43m[\u001b[49m\u001b[38;5;241;43m0\u001b[39;49m\u001b[43m]\u001b[49m\u001b[43m)\u001b[49m\u001b[43m)\u001b[49m\u001b[43m,\u001b[49m\u001b[43m \u001b[49m\u001b[43mif_body_4\u001b[49m\u001b[43m,\u001b[49m\u001b[43m \u001b[49m\u001b[43melse_body_4\u001b[49m\u001b[43m,\u001b[49m\u001b[43m \u001b[49m\u001b[43mget_state_6\u001b[49m\u001b[43m,\u001b[49m\u001b[43m \u001b[49m\u001b[43mset_state_6\u001b[49m\u001b[43m,\u001b[49m\u001b[43m \u001b[49m\u001b[43m(\u001b[49m\u001b[38;5;124;43m'\u001b[39;49m\u001b[38;5;124;43mdo_return\u001b[39;49m\u001b[38;5;124;43m'\u001b[39;49m\u001b[43m,\u001b[49m\u001b[43m \u001b[49m\u001b[38;5;124;43m'\u001b[39;49m\u001b[38;5;124;43moutputs\u001b[39;49m\u001b[38;5;124;43m'\u001b[39;49m\u001b[43m,\u001b[49m\u001b[43m \u001b[49m\u001b[38;5;124;43m'\u001b[39;49m\u001b[38;5;124;43mretval_\u001b[39;49m\u001b[38;5;124;43m'\u001b[39;49m\u001b[43m)\u001b[49m\u001b[43m,\u001b[49m\u001b[43m \u001b[49m\u001b[38;5;241;43m3\u001b[39;49m\u001b[43m)\u001b[49m\n",
      "File \u001b[1;32m~\\AppData\\Local\\Temp\\__autograph_generated_filemobezycu.py:177\u001b[0m, in \u001b[0;36mouter_factory.<locals>.inner_factory.<locals>.tf__static_or_dynamic_map_fn.<locals>.else_body_5.<locals>.else_body_4\u001b[1;34m()\u001b[0m\n\u001b[0;32m    175\u001b[0m \u001b[38;5;28;01mdef\u001b[39;00m \u001b[38;5;21melse_body_4\u001b[39m():\n\u001b[0;32m    176\u001b[0m     \u001b[38;5;28;01mnonlocal\u001b[39;00m outputs, retval_, do_return\n\u001b[1;32m--> 177\u001b[0m     outputs \u001b[38;5;241m=\u001b[39m [ag__\u001b[38;5;241m.\u001b[39mconverted_call(ag__\u001b[38;5;241m.\u001b[39mld(fn), (ag__\u001b[38;5;241m.\u001b[39mld(arg),), \u001b[38;5;28;01mNone\u001b[39;00m, fscope) \u001b[38;5;28;01mfor\u001b[39;00m arg \u001b[38;5;129;01min\u001b[39;00m ag__\u001b[38;5;241m.\u001b[39mconverted_call(ag__\u001b[38;5;241m.\u001b[39mld(tf)\u001b[38;5;241m.\u001b[39munstack, (ag__\u001b[38;5;241m.\u001b[39mld(elems),), \u001b[38;5;28;01mNone\u001b[39;00m, fscope)]\n",
      "File \u001b[1;32m~\\AppData\\Local\\Temp\\__autograph_generated_filemobezycu.py:177\u001b[0m, in \u001b[0;36m<listcomp>\u001b[1;34m(.0)\u001b[0m\n\u001b[0;32m    175\u001b[0m \u001b[38;5;28;01mdef\u001b[39;00m \u001b[38;5;21melse_body_4\u001b[39m():\n\u001b[0;32m    176\u001b[0m     \u001b[38;5;28;01mnonlocal\u001b[39;00m outputs, retval_, do_return\n\u001b[1;32m--> 177\u001b[0m     outputs \u001b[38;5;241m=\u001b[39m [\u001b[43mag__\u001b[49m\u001b[38;5;241;43m.\u001b[39;49m\u001b[43mconverted_call\u001b[49m\u001b[43m(\u001b[49m\u001b[43mag__\u001b[49m\u001b[38;5;241;43m.\u001b[39;49m\u001b[43mld\u001b[49m\u001b[43m(\u001b[49m\u001b[43mfn\u001b[49m\u001b[43m)\u001b[49m\u001b[43m,\u001b[49m\u001b[43m \u001b[49m\u001b[43m(\u001b[49m\u001b[43mag__\u001b[49m\u001b[38;5;241;43m.\u001b[39;49m\u001b[43mld\u001b[49m\u001b[43m(\u001b[49m\u001b[43marg\u001b[49m\u001b[43m)\u001b[49m\u001b[43m,\u001b[49m\u001b[43m)\u001b[49m\u001b[43m,\u001b[49m\u001b[43m \u001b[49m\u001b[38;5;28;43;01mNone\u001b[39;49;00m\u001b[43m,\u001b[49m\u001b[43m \u001b[49m\u001b[43mfscope\u001b[49m\u001b[43m)\u001b[49m \u001b[38;5;28;01mfor\u001b[39;00m arg \u001b[38;5;129;01min\u001b[39;00m ag__\u001b[38;5;241m.\u001b[39mconverted_call(ag__\u001b[38;5;241m.\u001b[39mld(tf)\u001b[38;5;241m.\u001b[39munstack, (ag__\u001b[38;5;241m.\u001b[39mld(elems),), \u001b[38;5;28;01mNone\u001b[39;00m, fscope)]\n",
      "File \u001b[1;32m~\\AppData\\Local\\Temp\\__autograph_generated_file_aqhm8_b.py:34\u001b[0m, in \u001b[0;36mouter_factory.<locals>.inner_factory.<locals>.tf__resize_image\u001b[1;34m(image, masks, new_height, new_width, method, align_corners)\u001b[0m\n\u001b[0;32m     32\u001b[0m retval_ \u001b[38;5;241m=\u001b[39m ag__\u001b[38;5;241m.\u001b[39mUndefinedReturnValue()\n\u001b[0;32m     33\u001b[0m \u001b[38;5;28;01mwith\u001b[39;00m ag__\u001b[38;5;241m.\u001b[39mld(tf)\u001b[38;5;241m.\u001b[39mname_scope(\u001b[38;5;124m'\u001b[39m\u001b[38;5;124mResizeImage\u001b[39m\u001b[38;5;124m'\u001b[39m, values\u001b[38;5;241m=\u001b[39m[ag__\u001b[38;5;241m.\u001b[39mld(image), ag__\u001b[38;5;241m.\u001b[39mld(new_height), ag__\u001b[38;5;241m.\u001b[39mld(new_width), ag__\u001b[38;5;241m.\u001b[39mld(method), ag__\u001b[38;5;241m.\u001b[39mld(align_corners)]):\n\u001b[1;32m---> 34\u001b[0m     new_image \u001b[38;5;241m=\u001b[39m ag__\u001b[38;5;241m.\u001b[39mconverted_call(ag__\u001b[38;5;241m.\u001b[39mld(tf)\u001b[38;5;241m.\u001b[39mimage\u001b[38;5;241m.\u001b[39mresize_images, (ag__\u001b[38;5;241m.\u001b[39mld(image), ag__\u001b[38;5;241m.\u001b[39mconverted_call(ag__\u001b[38;5;241m.\u001b[39mld(tf)\u001b[38;5;241m.\u001b[39mstack, ([ag__\u001b[38;5;241m.\u001b[39mld(new_height), ag__\u001b[38;5;241m.\u001b[39mld(new_width)],), \u001b[38;5;28;01mNone\u001b[39;00m, fscope)), \u001b[38;5;28mdict\u001b[39m(method\u001b[38;5;241m=\u001b[39mag__\u001b[38;5;241m.\u001b[39mld(method), align_corners\u001b[38;5;241m=\u001b[39mag__\u001b[38;5;241m.\u001b[39mld(align_corners)), fscope)\n\u001b[0;32m     35\u001b[0m     image_shape \u001b[38;5;241m=\u001b[39m ag__\u001b[38;5;241m.\u001b[39mconverted_call(ag__\u001b[38;5;241m.\u001b[39mld(shape_utils)\u001b[38;5;241m.\u001b[39mcombined_static_and_dynamic_shape, (ag__\u001b[38;5;241m.\u001b[39mld(image),), \u001b[38;5;28;01mNone\u001b[39;00m, fscope)\n\u001b[0;32m     36\u001b[0m     result \u001b[38;5;241m=\u001b[39m [ag__\u001b[38;5;241m.\u001b[39mld(new_image)]\n",
      "\u001b[1;31mValueError\u001b[0m: in user code:\n\n    File \"C:\\Users\\User\\AppData\\Local\\Temp\\ipykernel_19036\\1707628044.py\", line 10, in detect_fn  *\n        image, shapes = detection_model.preprocess(image)\n    File \"c:\\Users\\User\\anaconda3\\envs\\tf2\\lib\\site-packages\\object_detection\\meta_architectures\\ssd_meta_arch.py\", line 485, in preprocess  *\n        normalized_inputs, self._image_resizer_fn)\n    File \"c:\\Users\\User\\anaconda3\\envs\\tf2\\lib\\site-packages\\object_detection\\utils\\shape_utils.py\", line 492, in resize_images_and_return_shapes  *\n        outputs = static_or_dynamic_map_fn(\n    File \"c:\\Users\\User\\anaconda3\\envs\\tf2\\lib\\site-packages\\object_detection\\utils\\shape_utils.py\", line 246, in static_or_dynamic_map_fn  *\n        outputs = [fn(arg) for arg in tf.unstack(elems)]\n    File \"c:\\Users\\User\\anaconda3\\envs\\tf2\\lib\\site-packages\\object_detection\\core\\preprocessor.py\", line 3330, in resize_image  *\n        new_image = tf.image.resize_images(\n\n    ValueError: 'images' must have either 3 or 4 dimensions.\n"
     ]
    },
    {
     "ename": "",
     "evalue": "",
     "output_type": "error",
     "traceback": [
      "\u001b[1;31mThe Kernel crashed while executing code in the the current cell or a previous cell. Please review the code in the cell(s) to identify a possible cause of the failure. Click <a href='https://aka.ms/vscodeJupyterKernelCrash'>here</a> for more info. View Jupyter <a href='command:jupyter.viewOutput'>log</a> for further details."
     ]
    }
   ],
   "source": [
    "while True: \n",
    "    ret, frame = cap.read()\n",
    "    image_np = np.array(frame)\n",
    "    \n",
    "    input_tensor = tf.convert_to_tensor(np.expand_dims(image_np, 0), dtype=tf.float32)\n",
    "    detections = detect_fn(input_tensor)\n",
    "    \n",
    "    num_detections = int(detections.pop('num_detections'))\n",
    "    detections = {key: value[0, :num_detections].numpy()\n",
    "                  for key, value in detections.items()}\n",
    "    detections['num_detections'] = num_detections\n",
    "\n",
    "    # detection_classes should be ints.\n",
    "    detections['detection_classes'] = detections['detection_classes'].astype(np.int64)\n",
    "\n",
    "    label_id_offset = 1\n",
    "    image_np_with_detections = image_np.copy()\n",
    "\n",
    "    viz_utils.visualize_boxes_and_labels_on_image_array(\n",
    "                image_np_with_detections,\n",
    "                detections['detection_boxes'],\n",
    "                detections['detection_classes']+label_id_offset,\n",
    "                detections['detection_scores'],\n",
    "                category_index,\n",
    "                use_normalized_coordinates=True,\n",
    "                max_boxes_to_draw=5,\n",
    "                min_score_thresh=.5,\n",
    "                agnostic_mode=False)\n",
    "\n",
    "    cv2.imshow('object detection',  cv2.resize(image_np_with_detections, (800, 600)))\n",
    "    \n",
    "    if cv2.waitKey(1) & 0xFF == ord('q'):\n",
    "        cap.release()\n",
    "        break"
   ]
  },
  {
   "cell_type": "code",
   "execution_count": null,
   "metadata": {},
   "outputs": [],
   "source": []
  }
 ],
 "metadata": {
  "kernelspec": {
   "display_name": "tf2",
   "language": "python",
   "name": "python3"
  },
  "language_info": {
   "codemirror_mode": {
    "name": "ipython",
    "version": 3
   },
   "file_extension": ".py",
   "mimetype": "text/x-python",
   "name": "python",
   "nbconvert_exporter": "python",
   "pygments_lexer": "ipython3",
   "version": "3.9.18"
  }
 },
 "nbformat": 4,
 "nbformat_minor": 2
}
